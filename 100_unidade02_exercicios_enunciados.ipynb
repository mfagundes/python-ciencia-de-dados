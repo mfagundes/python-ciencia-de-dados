{
  "nbformat": 4,
  "nbformat_minor": 0,
  "metadata": {
    "kernelspec": {
      "display_name": "Python 3",
      "language": "python",
      "name": "python3"
    },
    "language_info": {
      "codemirror_mode": {
        "name": "ipython",
        "version": 3
      },
      "file_extension": ".py",
      "mimetype": "text/x-python",
      "name": "python",
      "nbconvert_exporter": "python",
      "pygments_lexer": "ipython3",
      "version": "3.7.1"
    },
    "colab": {
      "name": "100-unidade02-exercicios-enunciados.ipynb",
      "provenance": [],
      "collapsed_sections": [],
      "toc_visible": true,
      "include_colab_link": true
    }
  },
  "cells": [
    {
      "cell_type": "markdown",
      "metadata": {
        "id": "view-in-github",
        "colab_type": "text"
      },
      "source": [
        "<a href=\"https://colab.research.google.com/github/mfagundes/python-ciencia-de-dados/blob/main/100_unidade02_exercicios_enunciados.ipynb\" target=\"_parent\"><img src=\"https://colab.research.google.com/assets/colab-badge.svg\" alt=\"Open In Colab\"/></a>"
      ]
    },
    {
      "cell_type": "markdown",
      "metadata": {
        "id": "YqzSy2VbtWU6"
      },
      "source": [
        "# Python para Ciência de Dados\n",
        "---\n",
        "---"
      ]
    },
    {
      "cell_type": "markdown",
      "metadata": {
        "id": "2RT5rMjlta7l"
      },
      "source": [
        "# Unidade 02 - Exercícios\n",
        "---"
      ]
    },
    {
      "cell_type": "code",
      "metadata": {
        "id": "FhK218IDsjR-"
      },
      "source": [
        "import numpy as np"
      ],
      "execution_count": 86,
      "outputs": []
    },
    {
      "cell_type": "markdown",
      "metadata": {
        "id": "rb3Fb93lsjSK"
      },
      "source": [
        "## Exercício 1\n",
        "\n",
        "Crie um array 5x5 com a sequência 1...25 (incluso) e faça a soma dos elementos da diagonal."
      ]
    },
    {
      "cell_type": "code",
      "metadata": {
        "id": "z0TDwchSsjSN"
      },
      "source": [
        "########################\n",
        "# Início do seu código #\n",
        "########################\n"
      ],
      "execution_count": 87,
      "outputs": []
    },
    {
      "cell_type": "code",
      "source": [
        "A = np.array(range(1,26)).reshape(5,5)"
      ],
      "metadata": {
        "id": "xv5t14_FTfKJ"
      },
      "execution_count": 88,
      "outputs": []
    },
    {
      "cell_type": "code",
      "source": [
        "A"
      ],
      "metadata": {
        "colab": {
          "base_uri": "https://localhost:8080/"
        },
        "id": "0ot7t6-5Tmdl",
        "outputId": "8f8d73a9-8c41-44a9-b5d3-1b823231a8ba"
      },
      "execution_count": 89,
      "outputs": [
        {
          "output_type": "execute_result",
          "data": {
            "text/plain": [
              "array([[ 1,  2,  3,  4,  5],\n",
              "       [ 6,  7,  8,  9, 10],\n",
              "       [11, 12, 13, 14, 15],\n",
              "       [16, 17, 18, 19, 20],\n",
              "       [21, 22, 23, 24, 25]])"
            ]
          },
          "metadata": {},
          "execution_count": 89
        }
      ]
    },
    {
      "cell_type": "markdown",
      "metadata": {
        "id": "7T6wPKJ_sjSX"
      },
      "source": [
        "## Exercício 2\n",
        "\n",
        "Crie um array 5x5 com a sequência de números pares entre 0...50 (incluso) e faça as seguintes operações:\n",
        " 1. Soma das linhas\n",
        " 2. Soma das colunas\n",
        " 3. Média dos elementos da última linha\n",
        " 4. Média dos elementos da última coluna"
      ]
    },
    {
      "cell_type": "code",
      "metadata": {
        "id": "AbSWJGA2sjSY"
      },
      "source": [
        "########################\n",
        "# Início do seu código #\n",
        "########################\n",
        "\n"
      ],
      "execution_count": null,
      "outputs": []
    },
    {
      "cell_type": "markdown",
      "metadata": {
        "id": "j2wP0WNHsjSf"
      },
      "source": [
        "## Exercício 3\n",
        "\n",
        "Dado o array 2D a seguir, substitua o seu maior valor por 0."
      ]
    },
    {
      "cell_type": "code",
      "metadata": {
        "id": "Vo-38ZlVsjSg",
        "outputId": "9164367f-5a83-4167-bd12-8aa021b885e5",
        "colab": {
          "base_uri": "https://localhost:8080/",
          "height": 102
        }
      },
      "source": [
        "import numpy as np\n",
        "array = np.random.normal(0, 3, size=(5, 5))\n",
        "print(array)\n",
        "########################\n",
        "# Inicio do seu código #\n",
        "########################\n",
        "\n"
      ],
      "execution_count": null,
      "outputs": [
        {
          "output_type": "stream",
          "text": [
            "[[ 2.95762462 -2.03597243  5.94232655  0.39238978 -1.95145709]\n",
            " [-2.75334665  0.53307347 -1.2079649  -1.35667712  1.85690007]\n",
            " [ 9.2205608   4.57430227  0.1136759   3.96259811  2.19731099]\n",
            " [ 0.64757833  1.16692083 -0.31765555 -4.09718832  0.24594572]\n",
            " [-2.41058108  0.78612364  6.09949888 -3.87238459 -5.54470088]]\n"
          ],
          "name": "stdout"
        }
      ]
    },
    {
      "cell_type": "markdown",
      "metadata": {
        "id": "s4nCBPbwsjSm"
      },
      "source": [
        "## Exercício 4\n",
        "\n",
        "Dado o par de arrays 2D abaixo, determine se é possível realizar uma multiplicação de matriz, realize a multiplicação caso seja possível."
      ]
    },
    {
      "cell_type": "code",
      "metadata": {
        "id": "DXyvX1VzsjSn"
      },
      "source": [
        "a = np.random.uniform(size=(5, 3))\n",
        "b = np.random.uniform(size=(3, 4))\n",
        "\n",
        "########################\n",
        "# Início do seu código #\n",
        "########################\n",
        "\n"
      ],
      "execution_count": null,
      "outputs": []
    },
    {
      "cell_type": "markdown",
      "metadata": {
        "id": "dMfa3XbxsjSs"
      },
      "source": [
        "## Exercício 5\n",
        "\n",
        "Dado o array abaixo, converta-o para um array do tipo int32."
      ]
    },
    {
      "cell_type": "code",
      "metadata": {
        "id": "C5k_ulvIsjSt"
      },
      "source": [
        "a = np.arange(9, dtype=np.float32).reshape(3, 3)\n",
        "\n",
        "########################\n",
        "# Início do seu código #\n",
        "########################\n",
        "\n"
      ],
      "execution_count": null,
      "outputs": []
    },
    {
      "cell_type": "markdown",
      "metadata": {
        "id": "qY7Lar-VsjSx"
      },
      "source": [
        "## Exercício 6\n",
        "\n",
        "Dado o array abaixo, some 10 em todos os elementos da última coluna."
      ]
    },
    {
      "cell_type": "code",
      "metadata": {
        "id": "0IB2W-gzsjSx"
      },
      "source": [
        "a = np.random.uniform(size=(8, 8))\n",
        "\n",
        "########################\n",
        "# Início do seu código #\n",
        "########################\n"
      ],
      "execution_count": null,
      "outputs": []
    },
    {
      "cell_type": "markdown",
      "metadata": {
        "id": "WVxr9Dd-sjS1"
      },
      "source": [
        "## Exercício 7\n",
        "\n",
        "Crie um array 2D 4x4 de inteiros que possua a seguinte estrutura:\n",
        "\n",
        "```python\n",
        "[[ 1  5  9 13]\n",
        " [ 2  6 10 14]\n",
        " [ 3  7 11 15]\n",
        " [ 4  8 12 16]]\n",
        "```"
      ]
    },
    {
      "cell_type": "code",
      "metadata": {
        "id": "z6ma_yibsjS1"
      },
      "source": [
        "########################\n",
        "# Início do seu código #\n",
        "########################\n"
      ],
      "execution_count": null,
      "outputs": []
    },
    {
      "cell_type": "markdown",
      "metadata": {
        "id": "PtyioF93sjS5"
      },
      "source": [
        "## Exercício 8\n",
        "\n",
        "Dados os dois arrays 2x4 abaixo (`a` e `b`), empilhe os dois formando um novo array 4x4"
      ]
    },
    {
      "cell_type": "code",
      "metadata": {
        "id": "1D8c-E0nsjS6"
      },
      "source": [
        "a = np.array([[0,3,4,5], [7, 10, 9, 2]])\n",
        "b = np.array([[1,4,9,12], [15, 22, 19, 17]])\n",
        "########################\n",
        "# Início do seu código #\n",
        "########################\n"
      ],
      "execution_count": null,
      "outputs": []
    },
    {
      "cell_type": "markdown",
      "metadata": {
        "id": "8BE4_hyAsjS9"
      },
      "source": [
        "## Exercício 9\n",
        "\n",
        "Leia o arquivo `actors.csv` e faça o seguintes cálculos sobre o conjunto de dados utilizando **Numpy**:\n",
        "\n",
        "1. O ator/atriz com maior número de filmes e o respectivo númeo de filmes.\n",
        "2. A média do número de filmes.\n",
        "3. O ator/atriz com a maior média por filme.\n",
        "4. O nome do(s) filme(s) mais frequente(s) e sua respectiva frequência.\n",
        "\n",
        "Dica: Faça o parsing do arquivo utilizando o pacote [csv](https://docs.python.org/3/library/csv.html) do python e depois converta os dados para array e então realize as operações solicitadas. O [numpy não oferece](https://stackoverflow.com/questions/28444272/numpy-loadtxt-how-to-ignore-comma-delimiters-that-appear-inside-quotes) uma maneira de ler csv que possa lidar com vírgulas que estão entre aspas (\")."
      ]
    },
    {
      "cell_type": "code",
      "metadata": {
        "id": "60cNYy9Is2h5"
      },
      "source": [
        "#Transferindo arquivo compartilhado como: https://drive.google.com/file/d/11Bgqcm7nqvXjvdb5N3LMgKTRBXquPkRI/view?usp=sharing\n",
        "!wget !wget https://drive.google.com/uc?id=11Bgqcm7nqvXjvdb5N3LMgKTRBXquPkRI -O actors.csv\n",
        "!cat actors.csv"
      ],
      "execution_count": null,
      "outputs": []
    },
    {
      "cell_type": "markdown",
      "metadata": {
        "id": "KrZx0FkDtVQC"
      },
      "source": [
        ""
      ]
    },
    {
      "cell_type": "code",
      "metadata": {
        "id": "M_8AOsUNsjS9"
      },
      "source": [
        "import csv\n",
        "\n",
        "########################\n",
        "# Início do seu código #\n",
        "########################\n"
      ],
      "execution_count": null,
      "outputs": []
    },
    {
      "cell_type": "markdown",
      "metadata": {
        "id": "JZMBgHh0vC97"
      },
      "source": [
        "---"
      ]
    }
  ]
}