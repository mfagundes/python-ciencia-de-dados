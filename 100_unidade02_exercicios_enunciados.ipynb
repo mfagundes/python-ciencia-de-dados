{
  "nbformat": 4,
  "nbformat_minor": 0,
  "metadata": {
    "kernelspec": {
      "display_name": "Python 3",
      "language": "python",
      "name": "python3"
    },
    "language_info": {
      "codemirror_mode": {
        "name": "ipython",
        "version": 3
      },
      "file_extension": ".py",
      "mimetype": "text/x-python",
      "name": "python",
      "nbconvert_exporter": "python",
      "pygments_lexer": "ipython3",
      "version": "3.7.1"
    },
    "colab": {
      "name": "100-unidade02-exercicios-enunciados.ipynb",
      "provenance": [],
      "collapsed_sections": [],
      "include_colab_link": true
    }
  },
  "cells": [
    {
      "cell_type": "markdown",
      "metadata": {
        "id": "view-in-github",
        "colab_type": "text"
      },
      "source": [
        "<a href=\"https://colab.research.google.com/github/mfagundes/python-ciencia-de-dados/blob/main/100_unidade02_exercicios_enunciados.ipynb\" target=\"_parent\"><img src=\"https://colab.research.google.com/assets/colab-badge.svg\" alt=\"Open In Colab\"/></a>"
      ]
    },
    {
      "cell_type": "markdown",
      "metadata": {
        "id": "YqzSy2VbtWU6"
      },
      "source": [
        "# Python para Ciência de Dados\n",
        "---\n",
        "---"
      ]
    },
    {
      "cell_type": "markdown",
      "metadata": {
        "id": "2RT5rMjlta7l"
      },
      "source": [
        "# Unidade 02 - Exercícios\n",
        "---"
      ]
    },
    {
      "cell_type": "code",
      "metadata": {
        "id": "FhK218IDsjR-"
      },
      "source": [
        "import numpy as np"
      ],
      "execution_count": 1,
      "outputs": []
    },
    {
      "cell_type": "markdown",
      "metadata": {
        "id": "rb3Fb93lsjSK"
      },
      "source": [
        "## Exercício 1\n",
        "\n",
        "Crie um array 5x5 com a sequência 1...25 (incluso) e faça a soma dos elementos da diagonal."
      ]
    },
    {
      "cell_type": "code",
      "metadata": {
        "id": "z0TDwchSsjSN"
      },
      "source": [
        "########################\n",
        "# Início do seu código #\n",
        "########################\n"
      ],
      "execution_count": 2,
      "outputs": []
    },
    {
      "cell_type": "code",
      "source": [
        "A = np.array(range(1,26)).reshape(5,5)"
      ],
      "metadata": {
        "id": "xv5t14_FTfKJ"
      },
      "execution_count": 3,
      "outputs": []
    },
    {
      "cell_type": "code",
      "source": [
        "A"
      ],
      "metadata": {
        "colab": {
          "base_uri": "https://localhost:8080/"
        },
        "id": "8gKwHOIxCtu4",
        "outputId": "9a199ddd-4b6b-4297-9424-79151930fc50"
      },
      "execution_count": 4,
      "outputs": [
        {
          "output_type": "execute_result",
          "data": {
            "text/plain": [
              "array([[ 1,  2,  3,  4,  5],\n",
              "       [ 6,  7,  8,  9, 10],\n",
              "       [11, 12, 13, 14, 15],\n",
              "       [16, 17, 18, 19, 20],\n",
              "       [21, 22, 23, 24, 25]])"
            ]
          },
          "metadata": {},
          "execution_count": 4
        }
      ]
    },
    {
      "cell_type": "markdown",
      "metadata": {
        "id": "7T6wPKJ_sjSX"
      },
      "source": [
        "## Exercício 2\n",
        "\n",
        "Crie um array 5x5 com a sequência de números pares entre 0...50 (incluso) e faça as seguintes operações:\n",
        " 1. Soma das linhas\n",
        " 2. Soma das colunas\n",
        " 3. Média dos elementos da última linha\n",
        " 4. Média dos elementos da última coluna"
      ]
    },
    {
      "cell_type": "code",
      "metadata": {
        "id": "AbSWJGA2sjSY"
      },
      "source": [
        "########################\n",
        "# Início do seu código #\n",
        "########################\n",
        "B = np.array(range(2, 51, 2)).reshape(5,5)\n"
      ],
      "execution_count": 6,
      "outputs": []
    },
    {
      "cell_type": "code",
      "source": [
        "B"
      ],
      "metadata": {
        "colab": {
          "base_uri": "https://localhost:8080/"
        },
        "id": "JLN7_u2EUfeR",
        "outputId": "29414983-d925-4a41-c08a-2853cb0a6558"
      },
      "execution_count": 9,
      "outputs": [
        {
          "output_type": "execute_result",
          "data": {
            "text/plain": [
              "array([[ 2,  4,  6,  8, 10],\n",
              "       [12, 14, 16, 18, 20],\n",
              "       [22, 24, 26, 28, 30],\n",
              "       [32, 34, 36, 38, 40],\n",
              "       [42, 44, 46, 48, 50]])"
            ]
          },
          "metadata": {},
          "execution_count": 9
        }
      ]
    },
    {
      "cell_type": "code",
      "source": [
        "#1. Soma das linhas\n",
        "B.sum(axis=1)"
      ],
      "metadata": {
        "colab": {
          "base_uri": "https://localhost:8080/"
        },
        "id": "ZEFTMiCKUghH",
        "outputId": "ee7f27eb-71c4-4ca3-baa6-2fd8677aad99"
      },
      "execution_count": 10,
      "outputs": [
        {
          "output_type": "execute_result",
          "data": {
            "text/plain": [
              "array([ 30,  80, 130, 180, 230])"
            ]
          },
          "metadata": {},
          "execution_count": 10
        }
      ]
    },
    {
      "cell_type": "code",
      "source": [
        "# 2. Soma das colunas\n",
        "B.sum(axis=0)"
      ],
      "metadata": {
        "colab": {
          "base_uri": "https://localhost:8080/"
        },
        "id": "ffPgs3EiUknb",
        "outputId": "8e069282-2fe0-40e9-dbbd-cff3fafe1e36"
      },
      "execution_count": 11,
      "outputs": [
        {
          "output_type": "execute_result",
          "data": {
            "text/plain": [
              "array([110, 120, 130, 140, 150])"
            ]
          },
          "metadata": {},
          "execution_count": 11
        }
      ]
    },
    {
      "cell_type": "code",
      "source": [
        "# 3. Média dos elementos da última linha\n",
        "B[-1, :].mean()"
      ],
      "metadata": {
        "colab": {
          "base_uri": "https://localhost:8080/"
        },
        "id": "H1Vk-oF_UySh",
        "outputId": "4775d07e-906a-420d-9519-6cf0481d886a"
      },
      "execution_count": 12,
      "outputs": [
        {
          "output_type": "execute_result",
          "data": {
            "text/plain": [
              "46.0"
            ]
          },
          "metadata": {},
          "execution_count": 12
        }
      ]
    },
    {
      "cell_type": "code",
      "source": [
        "# 4. Média dos lementos a última coluna\n",
        "B[:, -1].mean()"
      ],
      "metadata": {
        "colab": {
          "base_uri": "https://localhost:8080/"
        },
        "id": "cHArqt4eU8cy",
        "outputId": "6f35ed85-4349-455a-ea94-e18fd663d197"
      },
      "execution_count": 13,
      "outputs": [
        {
          "output_type": "execute_result",
          "data": {
            "text/plain": [
              "30.0"
            ]
          },
          "metadata": {},
          "execution_count": 13
        }
      ]
    },
    {
      "cell_type": "markdown",
      "metadata": {
        "id": "j2wP0WNHsjSf"
      },
      "source": [
        "## Exercício 3\n",
        "\n",
        "Dado o array 2D a seguir, substitua o seu maior valor por 0."
      ]
    },
    {
      "cell_type": "code",
      "metadata": {
        "id": "Vo-38ZlVsjSg",
        "outputId": "6fc39e5e-2828-4c92-f1ee-a0da41c44a8e",
        "colab": {
          "base_uri": "https://localhost:8080/"
        }
      },
      "source": [
        "import numpy as np\n",
        "array = np.random.normal(0, 3, size=(5, 5))\n",
        "print(array)\n",
        "########################\n",
        "# Inicio do seu código #\n",
        "########################\n",
        "\n"
      ],
      "execution_count": 14,
      "outputs": [
        {
          "output_type": "stream",
          "name": "stdout",
          "text": [
            "[[ 3.15590062  1.56780765  5.72514834  2.38613302 -1.67915556]\n",
            " [ 5.8969024  -3.04756697 -2.33030282 -0.08191739 -0.58294375]\n",
            " [-2.65571254 -3.7452956   5.24752983 -1.77933839  3.04436418]\n",
            " [ 0.93423072  3.90971949  4.14175071  1.28732659  0.17586671]\n",
            " [-4.69328937  1.22634047 -2.34920219  2.39624715  0.16715043]]\n"
          ]
        }
      ]
    },
    {
      "cell_type": "code",
      "source": [
        "array.reshape(-1)[array.argmax()] = 0"
      ],
      "metadata": {
        "id": "jpBieQoCVE4v"
      },
      "execution_count": 15,
      "outputs": []
    },
    {
      "cell_type": "code",
      "source": [
        "array"
      ],
      "metadata": {
        "colab": {
          "base_uri": "https://localhost:8080/"
        },
        "id": "3FF6fW_mVR9j",
        "outputId": "cc84d3e3-5b82-4f36-e892-8fe86a1b8033"
      },
      "execution_count": 16,
      "outputs": [
        {
          "output_type": "execute_result",
          "data": {
            "text/plain": [
              "array([[ 3.15590062,  1.56780765,  5.72514834,  2.38613302, -1.67915556],\n",
              "       [ 0.        , -3.04756697, -2.33030282, -0.08191739, -0.58294375],\n",
              "       [-2.65571254, -3.7452956 ,  5.24752983, -1.77933839,  3.04436418],\n",
              "       [ 0.93423072,  3.90971949,  4.14175071,  1.28732659,  0.17586671],\n",
              "       [-4.69328937,  1.22634047, -2.34920219,  2.39624715,  0.16715043]])"
            ]
          },
          "metadata": {},
          "execution_count": 16
        }
      ]
    },
    {
      "cell_type": "markdown",
      "source": [
        "## Usando ravel e flatten\n",
        "Ambos fazem transformações semelhantes ao ``reshape(-1)``. O ``ravel``, porém, cria uma view, enquanto ``flatten`` cria uma cópia. Assim, a modificação solicitada do elemento não será feita na matriz principal usando o ``flatten``.\n",
        "\n",
        "Usando o ``ndarray.base()`` podemos verificar se é uma view. Se for, retornará a matriz original (caso do ``ravel``). Caso contrário (o ``flatten``) retornará ``False``."
      ],
      "metadata": {
        "id": "DtJ7qipJOH0S"
      }
    },
    {
      "cell_type": "code",
      "source": [
        "# Gerando nova matriz\n",
        "array2 = np.random.normal(0, 3, size=(5, 5))\n",
        "print(array2)"
      ],
      "metadata": {
        "id": "NTBilMmkO31s",
        "outputId": "71952ffe-39c1-423d-e8dd-f182a859c09b",
        "colab": {
          "base_uri": "https://localhost:8080/"
        }
      },
      "execution_count": 21,
      "outputs": [
        {
          "output_type": "stream",
          "name": "stdout",
          "text": [
            "[[-1.11781806  0.17748716 -0.67415682  1.09971328 -2.40055105]\n",
            " [ 1.13074353 -4.65947881  1.99358857 -5.94301357  7.23599515]\n",
            " [ 5.9920986  -4.23311716 -1.49997764 -0.55468932 -0.04078585]\n",
            " [ 0.03501991 -1.10006916  1.28514191 -0.85565823  2.6386114 ]\n",
            " [ 0.87111348 -0.95250817  6.59294191  3.81058323  0.10937467]]\n"
          ]
        }
      ]
    },
    {
      "cell_type": "code",
      "source": [
        "array2.ravel()[array2.argmax()] = 0"
      ],
      "metadata": {
        "id": "4N25fNV8O_qJ"
      },
      "execution_count": 23,
      "outputs": []
    },
    {
      "cell_type": "code",
      "source": [
        "array2"
      ],
      "metadata": {
        "id": "XU1B1WqjPF1K",
        "outputId": "974d3ad4-a842-4aca-ba62-40dbd53eee3d",
        "colab": {
          "base_uri": "https://localhost:8080/"
        }
      },
      "execution_count": 24,
      "outputs": [
        {
          "output_type": "execute_result",
          "data": {
            "text/plain": [
              "array([[-1.11781806,  0.17748716, -0.67415682,  1.09971328, -2.40055105],\n",
              "       [ 1.13074353, -4.65947881,  1.99358857, -5.94301357,  0.        ],\n",
              "       [ 5.9920986 , -4.23311716, -1.49997764, -0.55468932, -0.04078585],\n",
              "       [ 0.03501991, -1.10006916,  1.28514191, -0.85565823,  2.6386114 ],\n",
              "       [ 0.87111348, -0.95250817,  6.59294191,  3.81058323,  0.10937467]])"
            ]
          },
          "metadata": {},
          "execution_count": 24
        }
      ]
    },
    {
      "cell_type": "markdown",
      "source": [
        "Usando o ``flatten``"
      ],
      "metadata": {
        "id": "rScikdRwPUqx"
      }
    },
    {
      "cell_type": "code",
      "source": [
        "array3 = np.random.normal(0, 3, size=(5, 5))\n",
        "print(array3)"
      ],
      "metadata": {
        "id": "EYPIDS9JPYgy",
        "outputId": "cc8a6bef-9511-4eca-c235-abbdd5e719bd",
        "colab": {
          "base_uri": "https://localhost:8080/"
        }
      },
      "execution_count": 27,
      "outputs": [
        {
          "output_type": "stream",
          "name": "stdout",
          "text": [
            "[[-1.29552645  2.78996223  0.70289541 -1.81611412 -2.41855738]\n",
            " [ 3.5450403  -1.39850812  0.44567547 -1.41811064 -2.88998184]\n",
            " [-3.49194425 -1.26882374 -3.08512386  1.26695557 -0.25539376]\n",
            " [ 0.37774037 -3.52141956  3.08845484 -2.47345874 -2.00480984]\n",
            " [-2.6965413  -1.63058266 -0.86367645 -0.92689531 -3.41593677]]\n"
          ]
        }
      ]
    },
    {
      "cell_type": "code",
      "source": [
        "array3.flatten()[array3.argmax()] = 0"
      ],
      "metadata": {
        "id": "EccSFpgDPfJe"
      },
      "execution_count": 30,
      "outputs": []
    },
    {
      "cell_type": "code",
      "source": [
        "array3"
      ],
      "metadata": {
        "id": "tPhb9bYzPk9r",
        "outputId": "cffab1fa-8801-416d-a666-1f2ab623ac1c",
        "colab": {
          "base_uri": "https://localhost:8080/"
        }
      },
      "execution_count": 31,
      "outputs": [
        {
          "output_type": "execute_result",
          "data": {
            "text/plain": [
              "array([[-1.29552645,  2.78996223,  0.70289541, -1.81611412, -2.41855738],\n",
              "       [ 3.5450403 , -1.39850812,  0.44567547, -1.41811064, -2.88998184],\n",
              "       [-3.49194425, -1.26882374, -3.08512386,  1.26695557, -0.25539376],\n",
              "       [ 0.37774037, -3.52141956,  3.08845484, -2.47345874, -2.00480984],\n",
              "       [-2.6965413 , -1.63058266, -0.86367645, -0.92689531, -3.41593677]])"
            ]
          },
          "metadata": {},
          "execution_count": 31
        }
      ]
    },
    {
      "cell_type": "markdown",
      "source": [
        "Como pode-se notar, o maior valor de ``array3`` não foi alterado"
      ],
      "metadata": {
        "id": "AdOsONftPvZg"
      }
    },
    {
      "cell_type": "markdown",
      "source": [
        "## Verificando bases e ids"
      ],
      "metadata": {
        "id": "AnVNrsDPP-r4"
      }
    },
    {
      "cell_type": "code",
      "source": [
        "X = np.array([[1,2,3], [4,5,6]])\n",
        "r = X.ravel()\n",
        "f = X.flatten()"
      ],
      "metadata": {
        "id": "3VX80i-aP1-G"
      },
      "execution_count": 34,
      "outputs": []
    },
    {
      "cell_type": "code",
      "source": [
        "print(id(X), id(r.base), id(f.base))"
      ],
      "metadata": {
        "id": "48cmONYlQNKo",
        "outputId": "2be85a9a-1297-49e8-b001-6280f67d636e",
        "colab": {
          "base_uri": "https://localhost:8080/"
        }
      },
      "execution_count": 43,
      "outputs": [
        {
          "output_type": "stream",
          "name": "stdout",
          "text": [
            "140051681162608 140051681162608 11125344\n"
          ]
        }
      ]
    },
    {
      "cell_type": "markdown",
      "source": [
        "Observa-se que o id do ``r.base`` é igual ao da matriz original, enquanto o do ``f.base`` é diferente. Quando se trata de uma ``view``, o id da base é idêntico ao da matriz original. \n",
        "\n",
        "Para melhor compreensão, [ver este link do Stack Overflow](https://stackoverflow.com/questions/28930465/what-is-the-difference-between-flatten-and-ravel-functions-in-numpy/54313275#54313275)"
      ],
      "metadata": {
        "id": "CfdrMHVGRM1v"
      }
    },
    {
      "cell_type": "code",
      "source": [
        "print(r.base)"
      ],
      "metadata": {
        "id": "-c-Xj1FFQRi3",
        "outputId": "714de5b3-6d23-4668-c0be-e69400f4b650",
        "colab": {
          "base_uri": "https://localhost:8080/"
        }
      },
      "execution_count": 39,
      "outputs": [
        {
          "output_type": "stream",
          "name": "stdout",
          "text": [
            "[[1 2 3]\n",
            " [4 5 6]]\n"
          ]
        }
      ]
    },
    {
      "cell_type": "code",
      "source": [
        "print(f.base)"
      ],
      "metadata": {
        "id": "98afx3NoQdPu",
        "outputId": "e46f9b1f-3b5e-4229-f065-15b54c01798f",
        "colab": {
          "base_uri": "https://localhost:8080/"
        }
      },
      "execution_count": 40,
      "outputs": [
        {
          "output_type": "stream",
          "name": "stdout",
          "text": [
            "None\n"
          ]
        }
      ]
    },
    {
      "cell_type": "markdown",
      "metadata": {
        "id": "s4nCBPbwsjSm"
      },
      "source": [
        "## Exercício 4\n",
        "\n",
        "Dado o par de arrays 2D abaixo, determine se é possível realizar uma multiplicação de matriz, realize a multiplicação caso seja possível."
      ]
    },
    {
      "cell_type": "code",
      "metadata": {
        "id": "DXyvX1VzsjSn"
      },
      "source": [
        "a = np.random.uniform(size=(5, 3))\n",
        "b = np.random.uniform(size=(3, 4))\n",
        "\n",
        "########################\n",
        "# Início do seu código #\n",
        "########################\n",
        "\n"
      ],
      "execution_count": 15,
      "outputs": []
    },
    {
      "cell_type": "code",
      "source": [
        "c = np.dot(a,b)"
      ],
      "metadata": {
        "id": "nFXjNyV9W5CG"
      },
      "execution_count": 16,
      "outputs": []
    },
    {
      "cell_type": "code",
      "source": [
        "c"
      ],
      "metadata": {
        "colab": {
          "base_uri": "https://localhost:8080/"
        },
        "id": "7nGHhF7BXeyf",
        "outputId": "1f5a65cb-d0c5-48bc-e79a-4d79e8b017fa"
      },
      "execution_count": 17,
      "outputs": [
        {
          "output_type": "execute_result",
          "data": {
            "text/plain": [
              "array([[1.49168656, 0.72893874, 0.98698955, 0.71327867],\n",
              "       [1.10329776, 0.64808077, 0.59355209, 0.43675377],\n",
              "       [0.99383525, 0.72365543, 0.5797551 , 0.74113284],\n",
              "       [1.29033459, 0.96742008, 0.81884689, 1.15196108],\n",
              "       [1.27285346, 0.97284026, 0.55888595, 0.64530679]])"
            ]
          },
          "metadata": {},
          "execution_count": 17
        }
      ]
    },
    {
      "cell_type": "markdown",
      "metadata": {
        "id": "dMfa3XbxsjSs"
      },
      "source": [
        "## Exercício 5\n",
        "\n",
        "Dado o array abaixo, converta-o para um array do tipo int32."
      ]
    },
    {
      "cell_type": "code",
      "metadata": {
        "id": "C5k_ulvIsjSt"
      },
      "source": [
        "a = np.arange(9, dtype=np.float32).reshape(3, 3)\n",
        "\n",
        "########################\n",
        "# Início do seu código #\n",
        "########################\n",
        "\n"
      ],
      "execution_count": 18,
      "outputs": []
    },
    {
      "cell_type": "code",
      "source": [
        "a = a.astype('int32')"
      ],
      "metadata": {
        "id": "NTGXk8zMXtqF"
      },
      "execution_count": 19,
      "outputs": []
    },
    {
      "cell_type": "code",
      "source": [
        "a"
      ],
      "metadata": {
        "colab": {
          "base_uri": "https://localhost:8080/"
        },
        "id": "mKCn3h_FXxz3",
        "outputId": "92d7d5d0-ef87-4f85-ef54-cb515931def2"
      },
      "execution_count": 20,
      "outputs": [
        {
          "output_type": "execute_result",
          "data": {
            "text/plain": [
              "array([[0, 1, 2],\n",
              "       [3, 4, 5],\n",
              "       [6, 7, 8]], dtype=int32)"
            ]
          },
          "metadata": {},
          "execution_count": 20
        }
      ]
    },
    {
      "cell_type": "markdown",
      "metadata": {
        "id": "qY7Lar-VsjSx"
      },
      "source": [
        "## Exercício 6\n",
        "\n",
        "Dado o array abaixo, some 10 em todos os elementos da última coluna."
      ]
    },
    {
      "cell_type": "code",
      "metadata": {
        "id": "0IB2W-gzsjSx"
      },
      "source": [
        "a = np.random.uniform(size=(8, 8))\n",
        "\n",
        "########################\n",
        "# Início do seu código #\n",
        "########################\n"
      ],
      "execution_count": 21,
      "outputs": []
    },
    {
      "cell_type": "code",
      "source": [
        "a"
      ],
      "metadata": {
        "colab": {
          "base_uri": "https://localhost:8080/"
        },
        "id": "5TRNrbxXYCLm",
        "outputId": "9cf0921b-5353-47b6-9f2e-edeeb971386b"
      },
      "execution_count": 22,
      "outputs": [
        {
          "output_type": "execute_result",
          "data": {
            "text/plain": [
              "array([[0.19973909, 0.23469067, 0.56643377, 0.94261209, 0.49086552,\n",
              "        0.71184447, 0.48885867, 0.63493962],\n",
              "       [0.00703913, 0.42777551, 0.65990298, 0.73165754, 0.70633975,\n",
              "        0.47067639, 0.69895333, 0.58285532],\n",
              "       [0.19834394, 0.89771333, 0.73897307, 0.88863581, 0.23017024,\n",
              "        0.17487938, 0.78496926, 0.48215718],\n",
              "       [0.36316924, 0.13390955, 0.62476985, 0.60270576, 0.4152509 ,\n",
              "        0.58168609, 0.88897761, 0.32427781],\n",
              "       [0.39230253, 0.14435665, 0.29939632, 0.92727087, 0.92724775,\n",
              "        0.04026991, 0.45200201, 0.22384568],\n",
              "       [0.57615566, 0.1086603 , 0.87065453, 0.82090751, 0.16760297,\n",
              "        0.26487112, 0.88518613, 0.24483728],\n",
              "       [0.94452051, 0.42565321, 0.11536461, 0.10413188, 0.08801854,\n",
              "        0.74358383, 0.31215429, 0.33385677],\n",
              "       [0.67180924, 0.8545113 , 0.28996976, 0.71873928, 0.30070552,\n",
              "        0.58806229, 0.56142346, 0.53297109]])"
            ]
          },
          "metadata": {},
          "execution_count": 22
        }
      ]
    },
    {
      "cell_type": "code",
      "source": [
        "a[:, -1] += 10"
      ],
      "metadata": {
        "id": "sRKEVXFXX0Wv"
      },
      "execution_count": 23,
      "outputs": []
    },
    {
      "cell_type": "code",
      "source": [
        "a"
      ],
      "metadata": {
        "colab": {
          "base_uri": "https://localhost:8080/"
        },
        "id": "jpidPEcAX5v8",
        "outputId": "bb29e986-ca46-4fec-96a0-8a72c0aca492"
      },
      "execution_count": 24,
      "outputs": [
        {
          "output_type": "execute_result",
          "data": {
            "text/plain": [
              "array([[1.99739093e-01, 2.34690673e-01, 5.66433770e-01, 9.42612085e-01,\n",
              "        4.90865516e-01, 7.11844473e-01, 4.88858672e-01, 1.06349396e+01],\n",
              "       [7.03913386e-03, 4.27775506e-01, 6.59902979e-01, 7.31657544e-01,\n",
              "        7.06339746e-01, 4.70676389e-01, 6.98953332e-01, 1.05828553e+01],\n",
              "       [1.98343939e-01, 8.97713329e-01, 7.38973069e-01, 8.88635808e-01,\n",
              "        2.30170240e-01, 1.74879384e-01, 7.84969261e-01, 1.04821572e+01],\n",
              "       [3.63169242e-01, 1.33909550e-01, 6.24769851e-01, 6.02705760e-01,\n",
              "        4.15250899e-01, 5.81686094e-01, 8.88977612e-01, 1.03242778e+01],\n",
              "       [3.92302529e-01, 1.44356655e-01, 2.99396320e-01, 9.27270872e-01,\n",
              "        9.27247748e-01, 4.02699051e-02, 4.52002013e-01, 1.02238457e+01],\n",
              "       [5.76155662e-01, 1.08660302e-01, 8.70654526e-01, 8.20907508e-01,\n",
              "        1.67602965e-01, 2.64871115e-01, 8.85186135e-01, 1.02448373e+01],\n",
              "       [9.44520515e-01, 4.25653210e-01, 1.15364614e-01, 1.04131880e-01,\n",
              "        8.80185372e-02, 7.43583831e-01, 3.12154290e-01, 1.03338568e+01],\n",
              "       [6.71809236e-01, 8.54511296e-01, 2.89969763e-01, 7.18739285e-01,\n",
              "        3.00705525e-01, 5.88062292e-01, 5.61423464e-01, 1.05329711e+01]])"
            ]
          },
          "metadata": {},
          "execution_count": 24
        }
      ]
    },
    {
      "cell_type": "code",
      "source": [
        ""
      ],
      "metadata": {
        "id": "-wgeXrpXX6bs"
      },
      "execution_count": 24,
      "outputs": []
    },
    {
      "cell_type": "markdown",
      "metadata": {
        "id": "WVxr9Dd-sjS1"
      },
      "source": [
        "## Exercício 7\n",
        "\n",
        "Crie um array 2D 4x4 de inteiros que possua a seguinte estrutura:\n",
        "\n",
        "```python\n",
        "[[ 1  5  9 13]\n",
        " [ 2  6 10 14]\n",
        " [ 3  7 11 15]\n",
        " [ 4  8 12 16]]\n",
        "```"
      ]
    },
    {
      "cell_type": "code",
      "metadata": {
        "id": "z6ma_yibsjS1"
      },
      "source": [
        "########################\n",
        "# Início do seu código #\n",
        "########################\n",
        "D = np.array([np.random.randint(1, 17) for _ in range(1, 17)]).reshape(4,4)"
      ],
      "execution_count": 25,
      "outputs": []
    },
    {
      "cell_type": "code",
      "source": [
        "D"
      ],
      "metadata": {
        "colab": {
          "base_uri": "https://localhost:8080/"
        },
        "id": "wwY4H5DBg4rh",
        "outputId": "6cf6a75e-3ebe-43ce-8dd5-ed7e20608a97"
      },
      "execution_count": 26,
      "outputs": [
        {
          "output_type": "execute_result",
          "data": {
            "text/plain": [
              "array([[15,  3,  9, 11],\n",
              "       [ 8,  3, 14, 11],\n",
              "       [ 5, 12,  8,  4],\n",
              "       [10, 10,  4, 16]])"
            ]
          },
          "metadata": {},
          "execution_count": 26
        }
      ]
    },
    {
      "cell_type": "code",
      "source": [
        ""
      ],
      "metadata": {
        "id": "gaX8TPF-hOH4"
      },
      "execution_count": 26,
      "outputs": []
    },
    {
      "cell_type": "markdown",
      "metadata": {
        "id": "PtyioF93sjS5"
      },
      "source": [
        "## Exercício 8\n",
        "\n",
        "Dados os dois arrays 2x4 abaixo (`a` e `b`), empilhe os dois formando um novo array 4x4"
      ]
    },
    {
      "cell_type": "code",
      "metadata": {
        "id": "1D8c-E0nsjS6"
      },
      "source": [
        "a = np.array([[0,3,4,5], [7, 10, 9, 2]])\n",
        "b = np.array([[1,4,9,12], [15, 22, 19, 17]])\n",
        "########################\n",
        "# Início do seu código #\n",
        "########################\n"
      ],
      "execution_count": 27,
      "outputs": []
    },
    {
      "cell_type": "code",
      "source": [
        "a"
      ],
      "metadata": {
        "colab": {
          "base_uri": "https://localhost:8080/"
        },
        "id": "JHhvFzL7hs_K",
        "outputId": "afdd52b6-cd9a-4a8b-c342-8506156c592a"
      },
      "execution_count": 28,
      "outputs": [
        {
          "output_type": "execute_result",
          "data": {
            "text/plain": [
              "array([[ 0,  3,  4,  5],\n",
              "       [ 7, 10,  9,  2]])"
            ]
          },
          "metadata": {},
          "execution_count": 28
        }
      ]
    },
    {
      "cell_type": "code",
      "source": [
        "b"
      ],
      "metadata": {
        "colab": {
          "base_uri": "https://localhost:8080/"
        },
        "id": "5U51T5z-ht6B",
        "outputId": "674f268c-9e10-4dbc-f1a0-d31ec1f5561a"
      },
      "execution_count": 29,
      "outputs": [
        {
          "output_type": "execute_result",
          "data": {
            "text/plain": [
              "array([[ 1,  4,  9, 12],\n",
              "       [15, 22, 19, 17]])"
            ]
          },
          "metadata": {},
          "execution_count": 29
        }
      ]
    },
    {
      "cell_type": "code",
      "source": [
        "c = np.concatenate((a, b))"
      ],
      "metadata": {
        "id": "wpvzqNTFhRo-"
      },
      "execution_count": 30,
      "outputs": []
    },
    {
      "cell_type": "code",
      "source": [
        "c"
      ],
      "metadata": {
        "colab": {
          "base_uri": "https://localhost:8080/"
        },
        "id": "eoUbKZIQhUDJ",
        "outputId": "15c25b50-e437-4cef-d170-c63cba1ce550"
      },
      "execution_count": 31,
      "outputs": [
        {
          "output_type": "execute_result",
          "data": {
            "text/plain": [
              "array([[ 0,  3,  4,  5],\n",
              "       [ 7, 10,  9,  2],\n",
              "       [ 1,  4,  9, 12],\n",
              "       [15, 22, 19, 17]])"
            ]
          },
          "metadata": {},
          "execution_count": 31
        }
      ]
    },
    {
      "cell_type": "markdown",
      "metadata": {
        "id": "8BE4_hyAsjS9"
      },
      "source": [
        "## Exercício 9\n",
        "\n",
        "Leia o arquivo `actors.csv` e faça o seguintes cálculos sobre o conjunto de dados utilizando **Numpy**:\n",
        "\n",
        "1. O ator/atriz com maior número de filmes e o respectivo númeo de filmes.\n",
        "2. A média do número de filmes.\n",
        "3. O ator/atriz com a maior média por filme.\n",
        "4. O nome do(s) filme(s) mais frequente(s) e sua respectiva frequência.\n",
        "\n",
        "Dica: Faça o parsing do arquivo utilizando o pacote [csv](https://docs.python.org/3/library/csv.html) do python e depois converta os dados para array e então realize as operações solicitadas. O [numpy não oferece](https://stackoverflow.com/questions/28444272/numpy-loadtxt-how-to-ignore-comma-delimiters-that-appear-inside-quotes) uma maneira de ler csv que possa lidar com vírgulas que estão entre aspas (\")."
      ]
    },
    {
      "cell_type": "code",
      "metadata": {
        "id": "60cNYy9Is2h5",
        "colab": {
          "base_uri": "https://localhost:8080/"
        },
        "outputId": "e16ef3d0-4057-47dc-e835-50170f5d6dfb"
      },
      "source": [
        "#Transferindo arquivo compartilhado como: https://drive.google.com/file/d/11Bgqcm7nqvXjvdb5N3LMgKTRBXquPkRI/view?usp=sharing\n",
        "!wget !wget https://drive.google.com/uc?id=11Bgqcm7nqvXjvdb5N3LMgKTRBXquPkRI -O actors.csv\n",
        "!cat actors.csv"
      ],
      "execution_count": 32,
      "outputs": [
        {
          "output_type": "stream",
          "name": "stdout",
          "text": [
            "--2022-07-09 01:07:49--  http://!wget/\n",
            "Resolving !wget (!wget)... failed: Name or service not known.\n",
            "wget: unable to resolve host address ‘!wget’\n",
            "--2022-07-09 01:07:50--  https://drive.google.com/uc?id=11Bgqcm7nqvXjvdb5N3LMgKTRBXquPkRI\n",
            "Resolving drive.google.com (drive.google.com)... 142.251.16.139, 142.251.16.100, 142.251.16.101, ...\n",
            "Connecting to drive.google.com (drive.google.com)|142.251.16.139|:443... connected.\n",
            "HTTP request sent, awaiting response... 303 See Other\n",
            "Location: https://doc-10-ag-docs.googleusercontent.com/docs/securesc/ha0ro937gcuc7l7deffksulhg5h7mbp1/cnt3ejjumgoueka3i3c23bn4fjkt47dq/1657328850000/05702288761093373215/*/11Bgqcm7nqvXjvdb5N3LMgKTRBXquPkRI?uuid=fb1c9b13-021a-4d35-9f13-bef180429695 [following]\n",
            "Warning: wildcards not supported in HTTP.\n",
            "--2022-07-09 01:07:50--  https://doc-10-ag-docs.googleusercontent.com/docs/securesc/ha0ro937gcuc7l7deffksulhg5h7mbp1/cnt3ejjumgoueka3i3c23bn4fjkt47dq/1657328850000/05702288761093373215/*/11Bgqcm7nqvXjvdb5N3LMgKTRBXquPkRI?uuid=fb1c9b13-021a-4d35-9f13-bef180429695\n",
            "Resolving doc-10-ag-docs.googleusercontent.com (doc-10-ag-docs.googleusercontent.com)... 172.253.115.132, 2607:f8b0:4004:c06::84\n",
            "Connecting to doc-10-ag-docs.googleusercontent.com (doc-10-ag-docs.googleusercontent.com)|172.253.115.132|:443... connected.\n",
            "HTTP request sent, awaiting response... 200 OK\n",
            "Length: 3023 (3.0K) [text/csv]\n",
            "Saving to: ‘actors.csv’\n",
            "\n",
            "actors.csv          100%[===================>]   2.95K  --.-KB/s    in 0s      \n",
            "\n",
            "2022-07-09 01:07:50 (97.4 MB/s) - ‘actors.csv’ saved [3023/3023]\n",
            "\n",
            "FINISHED --2022-07-09 01:07:50--\n",
            "Total wall clock time: 0.7s\n",
            "Downloaded: 1 files, 3.0K in 0s (97.4 MB/s)\n",
            "Anne Hathaway,2416.50 ,25,96.70 ,The Dark Knight Rises,448.10 "
          ]
        }
      ]
    },
    {
      "cell_type": "markdown",
      "source": [
        "Considerei desnecessário parsear com o csv e gerar arrays do Numpy - até porque o professor, neste ponto, passa para o Pandas. Decidi, então, fazer este exercício diretamente no Pandas."
      ],
      "metadata": {
        "id": "iOcVIhJ0TCdH"
      }
    },
    {
      "cell_type": "code",
      "metadata": {
        "id": "M_8AOsUNsjS9"
      },
      "source": [
        "import csv\n",
        "import pandas as pd\n",
        "\n",
        "\n",
        "########################\n",
        "# Início do seu código #\n",
        "########################\n",
        "\n",
        "df = pd.read_csv('actors.csv', sep=\",\")\n"
      ],
      "execution_count": 33,
      "outputs": []
    },
    {
      "cell_type": "code",
      "source": [
        "df.head()"
      ],
      "metadata": {
        "colab": {
          "base_uri": "https://localhost:8080/",
          "height": 206
        },
        "id": "xJpInPgrlw6I",
        "outputId": "64ee7f5b-204b-41d8-e319-de695253803f"
      },
      "execution_count": 34,
      "outputs": [
        {
          "output_type": "execute_result",
          "data": {
            "text/plain": [
              "                Actor  Total Gross  Number of Movies  Average per Movie  \\\n",
              "0       Harrison Ford       4871.7                41              118.8   \n",
              "1   Samuel L. Jackson       4772.8                69               69.2   \n",
              "2      Morgan Freeman       4468.3                61               73.3   \n",
              "3           Tom Hanks       4340.8                44               98.7   \n",
              "4  Robert Downey, Jr.       3947.3                53               74.5   \n",
              "\n",
              "                       #1 Movie  Gross  \n",
              "0  Star Wars: The Force Awakens  936.7  \n",
              "1                  The Avengers  623.4  \n",
              "2               The Dark Knight  534.9  \n",
              "3                   Toy Story 3  415.0  \n",
              "4                  The Avengers  623.4  "
            ],
            "text/html": [
              "\n",
              "  <div id=\"df-3c28929c-e832-4b10-bb54-63908838e3e7\">\n",
              "    <div class=\"colab-df-container\">\n",
              "      <div>\n",
              "<style scoped>\n",
              "    .dataframe tbody tr th:only-of-type {\n",
              "        vertical-align: middle;\n",
              "    }\n",
              "\n",
              "    .dataframe tbody tr th {\n",
              "        vertical-align: top;\n",
              "    }\n",
              "\n",
              "    .dataframe thead th {\n",
              "        text-align: right;\n",
              "    }\n",
              "</style>\n",
              "<table border=\"1\" class=\"dataframe\">\n",
              "  <thead>\n",
              "    <tr style=\"text-align: right;\">\n",
              "      <th></th>\n",
              "      <th>Actor</th>\n",
              "      <th>Total Gross</th>\n",
              "      <th>Number of Movies</th>\n",
              "      <th>Average per Movie</th>\n",
              "      <th>#1 Movie</th>\n",
              "      <th>Gross</th>\n",
              "    </tr>\n",
              "  </thead>\n",
              "  <tbody>\n",
              "    <tr>\n",
              "      <th>0</th>\n",
              "      <td>Harrison Ford</td>\n",
              "      <td>4871.7</td>\n",
              "      <td>41</td>\n",
              "      <td>118.8</td>\n",
              "      <td>Star Wars: The Force Awakens</td>\n",
              "      <td>936.7</td>\n",
              "    </tr>\n",
              "    <tr>\n",
              "      <th>1</th>\n",
              "      <td>Samuel L. Jackson</td>\n",
              "      <td>4772.8</td>\n",
              "      <td>69</td>\n",
              "      <td>69.2</td>\n",
              "      <td>The Avengers</td>\n",
              "      <td>623.4</td>\n",
              "    </tr>\n",
              "    <tr>\n",
              "      <th>2</th>\n",
              "      <td>Morgan Freeman</td>\n",
              "      <td>4468.3</td>\n",
              "      <td>61</td>\n",
              "      <td>73.3</td>\n",
              "      <td>The Dark Knight</td>\n",
              "      <td>534.9</td>\n",
              "    </tr>\n",
              "    <tr>\n",
              "      <th>3</th>\n",
              "      <td>Tom Hanks</td>\n",
              "      <td>4340.8</td>\n",
              "      <td>44</td>\n",
              "      <td>98.7</td>\n",
              "      <td>Toy Story 3</td>\n",
              "      <td>415.0</td>\n",
              "    </tr>\n",
              "    <tr>\n",
              "      <th>4</th>\n",
              "      <td>Robert Downey, Jr.</td>\n",
              "      <td>3947.3</td>\n",
              "      <td>53</td>\n",
              "      <td>74.5</td>\n",
              "      <td>The Avengers</td>\n",
              "      <td>623.4</td>\n",
              "    </tr>\n",
              "  </tbody>\n",
              "</table>\n",
              "</div>\n",
              "      <button class=\"colab-df-convert\" onclick=\"convertToInteractive('df-3c28929c-e832-4b10-bb54-63908838e3e7')\"\n",
              "              title=\"Convert this dataframe to an interactive table.\"\n",
              "              style=\"display:none;\">\n",
              "        \n",
              "  <svg xmlns=\"http://www.w3.org/2000/svg\" height=\"24px\"viewBox=\"0 0 24 24\"\n",
              "       width=\"24px\">\n",
              "    <path d=\"M0 0h24v24H0V0z\" fill=\"none\"/>\n",
              "    <path d=\"M18.56 5.44l.94 2.06.94-2.06 2.06-.94-2.06-.94-.94-2.06-.94 2.06-2.06.94zm-11 1L8.5 8.5l.94-2.06 2.06-.94-2.06-.94L8.5 2.5l-.94 2.06-2.06.94zm10 10l.94 2.06.94-2.06 2.06-.94-2.06-.94-.94-2.06-.94 2.06-2.06.94z\"/><path d=\"M17.41 7.96l-1.37-1.37c-.4-.4-.92-.59-1.43-.59-.52 0-1.04.2-1.43.59L10.3 9.45l-7.72 7.72c-.78.78-.78 2.05 0 2.83L4 21.41c.39.39.9.59 1.41.59.51 0 1.02-.2 1.41-.59l7.78-7.78 2.81-2.81c.8-.78.8-2.07 0-2.86zM5.41 20L4 18.59l7.72-7.72 1.47 1.35L5.41 20z\"/>\n",
              "  </svg>\n",
              "      </button>\n",
              "      \n",
              "  <style>\n",
              "    .colab-df-container {\n",
              "      display:flex;\n",
              "      flex-wrap:wrap;\n",
              "      gap: 12px;\n",
              "    }\n",
              "\n",
              "    .colab-df-convert {\n",
              "      background-color: #E8F0FE;\n",
              "      border: none;\n",
              "      border-radius: 50%;\n",
              "      cursor: pointer;\n",
              "      display: none;\n",
              "      fill: #1967D2;\n",
              "      height: 32px;\n",
              "      padding: 0 0 0 0;\n",
              "      width: 32px;\n",
              "    }\n",
              "\n",
              "    .colab-df-convert:hover {\n",
              "      background-color: #E2EBFA;\n",
              "      box-shadow: 0px 1px 2px rgba(60, 64, 67, 0.3), 0px 1px 3px 1px rgba(60, 64, 67, 0.15);\n",
              "      fill: #174EA6;\n",
              "    }\n",
              "\n",
              "    [theme=dark] .colab-df-convert {\n",
              "      background-color: #3B4455;\n",
              "      fill: #D2E3FC;\n",
              "    }\n",
              "\n",
              "    [theme=dark] .colab-df-convert:hover {\n",
              "      background-color: #434B5C;\n",
              "      box-shadow: 0px 1px 3px 1px rgba(0, 0, 0, 0.15);\n",
              "      filter: drop-shadow(0px 1px 2px rgba(0, 0, 0, 0.3));\n",
              "      fill: #FFFFFF;\n",
              "    }\n",
              "  </style>\n",
              "\n",
              "      <script>\n",
              "        const buttonEl =\n",
              "          document.querySelector('#df-3c28929c-e832-4b10-bb54-63908838e3e7 button.colab-df-convert');\n",
              "        buttonEl.style.display =\n",
              "          google.colab.kernel.accessAllowed ? 'block' : 'none';\n",
              "\n",
              "        async function convertToInteractive(key) {\n",
              "          const element = document.querySelector('#df-3c28929c-e832-4b10-bb54-63908838e3e7');\n",
              "          const dataTable =\n",
              "            await google.colab.kernel.invokeFunction('convertToInteractive',\n",
              "                                                     [key], {});\n",
              "          if (!dataTable) return;\n",
              "\n",
              "          const docLinkHtml = 'Like what you see? Visit the ' +\n",
              "            '<a target=\"_blank\" href=https://colab.research.google.com/notebooks/data_table.ipynb>data table notebook</a>'\n",
              "            + ' to learn more about interactive tables.';\n",
              "          element.innerHTML = '';\n",
              "          dataTable['output_type'] = 'display_data';\n",
              "          await google.colab.output.renderOutput(dataTable, element);\n",
              "          const docLink = document.createElement('div');\n",
              "          docLink.innerHTML = docLinkHtml;\n",
              "          element.appendChild(docLink);\n",
              "        }\n",
              "      </script>\n",
              "    </div>\n",
              "  </div>\n",
              "  "
            ]
          },
          "metadata": {},
          "execution_count": 34
        }
      ]
    },
    {
      "cell_type": "markdown",
      "metadata": {
        "id": "JZMBgHh0vC97"
      },
      "source": [
        "---"
      ]
    },
    {
      "cell_type": "code",
      "source": [
        "# Ator/Atriz com maior número de filmes\n",
        "max_num_film = df.sort_values(by=['Number of Movies'], ascending=False).iloc[0]"
      ],
      "metadata": {
        "id": "RwQ9tNm8ZG24"
      },
      "execution_count": 35,
      "outputs": []
    },
    {
      "cell_type": "code",
      "source": [
        "max_num_film"
      ],
      "metadata": {
        "colab": {
          "base_uri": "https://localhost:8080/"
        },
        "id": "cy6FfhiDamML",
        "outputId": "01f80dcf-4682-484f-800a-00414ffedb50"
      },
      "execution_count": 36,
      "outputs": [
        {
          "output_type": "execute_result",
          "data": {
            "text/plain": [
              "Actor                   Robert DeNiro\n",
              "Total Gross                    3081.3\n",
              "Number of Movies                   79\n",
              "Average per Movie                39.0\n",
              "#1 Movie             Meet the Fockers\n",
              "Gross                           279.3\n",
              "Name: 19, dtype: object"
            ]
          },
          "metadata": {},
          "execution_count": 36
        }
      ]
    },
    {
      "cell_type": "code",
      "source": [
        "print(f\"O(A) Ator(atriz) com o maior número de filmes é {max_num_film['Actor']}, com {max_num_film['Number of Movies']} filmes.\")"
      ],
      "metadata": {
        "colab": {
          "base_uri": "https://localhost:8080/"
        },
        "id": "HurJe6ScZuT_",
        "outputId": "77e0c5c0-a3f1-4364-9a73-bb0caf50e309"
      },
      "execution_count": 37,
      "outputs": [
        {
          "output_type": "stream",
          "name": "stdout",
          "text": [
            "O(A) Ator(atriz) com o maior número de filmes é Robert DeNiro, com 79 filmes.\n"
          ]
        }
      ]
    },
    {
      "cell_type": "code",
      "source": [
        "# A média do número de filmes.\n",
        "print(f\"A média de filmes por ator/atriz é de {df['Number of Movies'].mean()}\")"
      ],
      "metadata": {
        "colab": {
          "base_uri": "https://localhost:8080/"
        },
        "id": "vvLuOsjza_8L",
        "outputId": "4551b03b-8528-41c6-83bc-3629bddf11b0"
      },
      "execution_count": 38,
      "outputs": [
        {
          "output_type": "stream",
          "name": "stdout",
          "text": [
            "A média de filmes por ator/atriz é de 37.88\n"
          ]
        }
      ]
    },
    {
      "cell_type": "code",
      "source": [
        "# O ator/atriz com a maior média por filme\n",
        "max_mean_film = df.sort_values(by=['Average per Movie'], ascending=False).iloc[0]\n",
        "print(f\"O(A) ator(atriz) com a maior média por filme é {max_mean_film['Actor']}, com {max_mean_film['Average per Movie']}\")"
      ],
      "metadata": {
        "colab": {
          "base_uri": "https://localhost:8080/"
        },
        "id": "0T4pp_lKbV5g",
        "outputId": "85903525-93be-484b-bea6-2fce6ab5bdf7"
      },
      "execution_count": 39,
      "outputs": [
        {
          "output_type": "stream",
          "name": "stdout",
          "text": [
            "O(A) ator(atriz) com a maior média por filme é Anthony Daniels, com 451.8\n"
          ]
        }
      ]
    },
    {
      "cell_type": "code",
      "source": [
        "# O nome do(s) filme(s) mais frequente(s) e sua respectiva frequência.\n",
        "movie_freq = df.groupby(['#1 Movie']).count().sort_values(by=['Average per Movie'], ascending=False)\n",
        "max_freq = movie_freq.iloc[0]['Average per Movie']"
      ],
      "metadata": {
        "id": "PLbrhDWVcFXn"
      },
      "execution_count": 40,
      "outputs": []
    },
    {
      "cell_type": "code",
      "source": [
        "most_freq_film = movie_freq.loc[movie_freq['Average per Movie'] == max_freq]"
      ],
      "metadata": {
        "id": "9u16LSCOck9Y"
      },
      "execution_count": 41,
      "outputs": []
    },
    {
      "cell_type": "code",
      "source": [
        "print(\"Filme(s) mais frequente(s)\")\n",
        "for f in most_freq_film.iterrows():\n",
        "    print(f\"- {f[0]} com um total de {max_freq} aparições\")"
      ],
      "metadata": {
        "colab": {
          "base_uri": "https://localhost:8080/"
        },
        "id": "UpSNMEXNdEOK",
        "outputId": "e8a111c9-d8e7-49ef-f73e-b524e191b3aa"
      },
      "execution_count": 42,
      "outputs": [
        {
          "output_type": "stream",
          "name": "stdout",
          "text": [
            "Filme(s) mais frequente(s)\n",
            "- The Avengers com um total de 6 aparições\n"
          ]
        }
      ]
    },
    {
      "cell_type": "code",
      "source": [
        ""
      ],
      "metadata": {
        "id": "ZAkaCBdLdtlz"
      },
      "execution_count": 42,
      "outputs": []
    }
  ]
}