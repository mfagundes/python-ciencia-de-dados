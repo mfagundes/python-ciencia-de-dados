{
  "nbformat": 4,
  "nbformat_minor": 0,
  "metadata": {
    "colab": {
      "name": "Magic Functions.ipynb",
      "provenance": [],
      "toc_visible": true,
      "authorship_tag": "ABX9TyPKJVSAuQFefDP9XTK/VwCh",
      "include_colab_link": true
    },
    "kernelspec": {
      "name": "python3",
      "display_name": "Python 3"
    },
    "language_info": {
      "name": "python"
    }
  },
  "cells": [
    {
      "cell_type": "markdown",
      "metadata": {
        "id": "view-in-github",
        "colab_type": "text"
      },
      "source": [
        "<a href=\"https://colab.research.google.com/github/mfagundes/python-ciencia-de-dados/blob/main/misc/Magic_Functions.ipynb\" target=\"_parent\"><img src=\"https://colab.research.google.com/assets/colab-badge.svg\" alt=\"Open In Colab\"/></a>"
      ]
    },
    {
      "cell_type": "markdown",
      "source": [
        "# Magic Functions\n",
        "\n",
        "Funções precedidas pelo sinal (``%``)\n",
        "\n",
        "- ``%``: [line magic](https://ipython.readthedocs.io/en/stable/interactive/magics.html#line-magics) roda apenas o que está na mesma linha, em loop, não mantém variáveis\n",
        "- ``%%``: [cell magic](https://ipython.readthedocs.io/en/stable/interactive/magics.html#cell-magics) roda toda a célula, em loop, não mantém variáveis\n"
      ],
      "metadata": {
        "id": "CAbUKdaVmfJZ"
      }
    },
    {
      "cell_type": "markdown",
      "source": [
        "## Time it"
      ],
      "metadata": {
        "id": "GYnjGNY5rESd"
      }
    },
    {
      "cell_type": "code",
      "execution_count": 1,
      "metadata": {
        "id": "hXG08yAumc4T"
      },
      "outputs": [],
      "source": [
        "# Time it\n",
        "def play():\n",
        "    res = 0\n",
        "    for x in range(10):\n",
        "        res += x\n",
        "    return res"
      ]
    },
    {
      "cell_type": "code",
      "source": [
        "%timeit result = play()"
      ],
      "metadata": {
        "colab": {
          "base_uri": "https://localhost:8080/"
        },
        "id": "A3QVd_VInFTr",
        "outputId": "ac06caa1-662e-4595-9ad0-49c373ca737c"
      },
      "execution_count": 2,
      "outputs": [
        {
          "output_type": "stream",
          "name": "stdout",
          "text": [
            "The slowest run took 4.83 times longer than the fastest. This could mean that an intermediate result is being cached.\n",
            "1000000 loops, best of 5: 734 ns per loop\n"
          ]
        }
      ]
    },
    {
      "cell_type": "code",
      "source": [
        "# a variável result não existe, pois foi criada pelo timeit\n",
        "print(result)  # retorna NameError: name 'result' is not defined"
      ],
      "metadata": {
        "colab": {
          "base_uri": "https://localhost:8080/",
          "height": 183
        },
        "id": "FSC6zEmYpfDu",
        "outputId": "7031b71f-4ee6-40b5-945f-64479139b848"
      },
      "execution_count": 3,
      "outputs": [
        {
          "output_type": "error",
          "ename": "NameError",
          "evalue": "ignored",
          "traceback": [
            "\u001b[0;31m---------------------------------------------------------------------------\u001b[0m",
            "\u001b[0;31mNameError\u001b[0m                                 Traceback (most recent call last)",
            "\u001b[0;32m<ipython-input-3-3d4a9ac56b7c>\u001b[0m in \u001b[0;36m<module>\u001b[0;34m()\u001b[0m\n\u001b[1;32m      1\u001b[0m \u001b[0;31m# a variável result não existe, pois foi criada pelo timeit\u001b[0m\u001b[0;34m\u001b[0m\u001b[0;34m\u001b[0m\u001b[0;34m\u001b[0m\u001b[0m\n\u001b[0;32m----> 2\u001b[0;31m \u001b[0mprint\u001b[0m\u001b[0;34m(\u001b[0m\u001b[0mresult\u001b[0m\u001b[0;34m)\u001b[0m  \u001b[0;31m# retorna NameError: name 'result' is not defined\u001b[0m\u001b[0;34m\u001b[0m\u001b[0;34m\u001b[0m\u001b[0m\n\u001b[0m",
            "\u001b[0;31mNameError\u001b[0m: name 'result' is not defined"
          ]
        }
      ]
    },
    {
      "cell_type": "code",
      "source": [
        "%%timeit\n",
        "total = 0\n",
        "result = play()\n",
        "final = total + result"
      ],
      "metadata": {
        "colab": {
          "base_uri": "https://localhost:8080/"
        },
        "id": "cnLeg9PxnfEi",
        "outputId": "9d96a3c3-7138-482e-da9c-a37249eea567"
      },
      "execution_count": 4,
      "outputs": [
        {
          "output_type": "stream",
          "name": "stdout",
          "text": [
            "The slowest run took 4.57 times longer than the fastest. This could mean that an intermediate result is being cached.\n",
            "1000000 loops, best of 5: 775 ns per loop\n"
          ]
        }
      ]
    },
    {
      "cell_type": "code",
      "source": [
        "# a variável final não existe, pois foi criada pelo timeit\n",
        "print(final)  # retorna NameError: name 'final' is not defined"
      ],
      "metadata": {
        "colab": {
          "base_uri": "https://localhost:8080/",
          "height": 183
        },
        "id": "NR_QE7f-p6sl",
        "outputId": "7dd1cea1-101c-4404-9be4-4c908c398258"
      },
      "execution_count": 5,
      "outputs": [
        {
          "output_type": "error",
          "ename": "NameError",
          "evalue": "ignored",
          "traceback": [
            "\u001b[0;31m---------------------------------------------------------------------------\u001b[0m",
            "\u001b[0;31mNameError\u001b[0m                                 Traceback (most recent call last)",
            "\u001b[0;32m<ipython-input-5-c13b0cd89683>\u001b[0m in \u001b[0;36m<module>\u001b[0;34m()\u001b[0m\n\u001b[1;32m      1\u001b[0m \u001b[0;31m# a variável final não existe, pois foi criada pelo timeit\u001b[0m\u001b[0;34m\u001b[0m\u001b[0;34m\u001b[0m\u001b[0;34m\u001b[0m\u001b[0m\n\u001b[0;32m----> 2\u001b[0;31m \u001b[0mprint\u001b[0m\u001b[0;34m(\u001b[0m\u001b[0mfinal\u001b[0m\u001b[0;34m)\u001b[0m  \u001b[0;31m# retorna NameError: name 'final' is not defined\u001b[0m\u001b[0;34m\u001b[0m\u001b[0;34m\u001b[0m\u001b[0m\n\u001b[0m",
            "\u001b[0;31mNameError\u001b[0m: name 'final' is not defined"
          ]
        }
      ]
    },
    {
      "cell_type": "code",
      "source": [
        "%timeit\n",
        "total = 0\n",
        "result = play()\n",
        "final = total + result"
      ],
      "metadata": {
        "id": "j9bDQTvboVqB"
      },
      "execution_count": 6,
      "outputs": []
    },
    {
      "cell_type": "code",
      "source": [
        "# timeit foi aplicada só na linha, que está vazia. As variáveis da\n",
        "# célula são criadas normalmente e podem ser acessadas\n",
        "final"
      ],
      "metadata": {
        "colab": {
          "base_uri": "https://localhost:8080/"
        },
        "id": "Uv2ZQZ1Enthx",
        "outputId": "6584d53a-63e2-469f-e071-3c04456db591"
      },
      "execution_count": 7,
      "outputs": [
        {
          "output_type": "execute_result",
          "data": {
            "text/plain": [
              "45"
            ]
          },
          "metadata": {},
          "execution_count": 7
        }
      ]
    },
    {
      "cell_type": "code",
      "source": [
        "# timeit é aplicado apenas na atribuição de z\n",
        "# a célula roda normalmente\n",
        "\n",
        "%timeit z = 1000\n",
        "total_2 = 0\n",
        "result_2 = play()\n",
        "final_2 = total + result"
      ],
      "metadata": {
        "colab": {
          "base_uri": "https://localhost:8080/"
        },
        "id": "LIz0Zrb3qP4V",
        "outputId": "c77f9289-6046-4f9c-98af-362db1ec4557"
      },
      "execution_count": 8,
      "outputs": [
        {
          "output_type": "stream",
          "name": "stdout",
          "text": [
            "10000000 loops, best of 5: 21.2 ns per loop\n"
          ]
        }
      ]
    },
    {
      "cell_type": "code",
      "source": [
        "# a variável final_2 foi atribuída e existe\n",
        "print(final_2)"
      ],
      "metadata": {
        "colab": {
          "base_uri": "https://localhost:8080/"
        },
        "id": "MvqZKXl2oLyp",
        "outputId": "249ae2c0-7d62-4f59-fb98-5c7cd0841467"
      },
      "execution_count": 9,
      "outputs": [
        {
          "output_type": "stream",
          "name": "stdout",
          "text": [
            "45\n"
          ]
        }
      ]
    },
    {
      "cell_type": "code",
      "source": [
        "# a variável z foi gerada pelo timeit, então ela não pode ser acessada\n",
        "print(z) # retorna NameError: name 'z' is not defined"
      ],
      "metadata": {
        "colab": {
          "base_uri": "https://localhost:8080/",
          "height": 183
        },
        "id": "L_xafecIqsLU",
        "outputId": "5dc12873-7d56-460b-f039-9cde87254b2c"
      },
      "execution_count": 10,
      "outputs": [
        {
          "output_type": "error",
          "ename": "NameError",
          "evalue": "ignored",
          "traceback": [
            "\u001b[0;31m---------------------------------------------------------------------------\u001b[0m",
            "\u001b[0;31mNameError\u001b[0m                                 Traceback (most recent call last)",
            "\u001b[0;32m<ipython-input-10-4b8e46f8897b>\u001b[0m in \u001b[0;36m<module>\u001b[0;34m()\u001b[0m\n\u001b[1;32m      1\u001b[0m \u001b[0;31m# a variável z foi gerada pelo timeit, então ela não pode ser acessada\u001b[0m\u001b[0;34m\u001b[0m\u001b[0;34m\u001b[0m\u001b[0;34m\u001b[0m\u001b[0m\n\u001b[0;32m----> 2\u001b[0;31m \u001b[0mprint\u001b[0m\u001b[0;34m(\u001b[0m\u001b[0mz\u001b[0m\u001b[0;34m)\u001b[0m \u001b[0;31m# retorna NameError: name 'z' is not defined\u001b[0m\u001b[0;34m\u001b[0m\u001b[0;34m\u001b[0m\u001b[0m\n\u001b[0m",
            "\u001b[0;31mNameError\u001b[0m: name 'z' is not defined"
          ]
        }
      ]
    },
    {
      "cell_type": "code",
      "source": [
        ""
      ],
      "metadata": {
        "id": "OIgUGNRDqtiJ"
      },
      "execution_count": null,
      "outputs": []
    }
  ]
}